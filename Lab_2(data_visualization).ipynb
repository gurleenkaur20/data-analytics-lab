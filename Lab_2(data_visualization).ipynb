{
  "nbformat": 4,
  "nbformat_minor": 0,
  "metadata": {
    "colab": {
      "name": "data visualization(Lab 2).ipynb",
      "provenance": [],
      "authorship_tag": "ABX9TyPNG/J42tXTDF76623iPJR2",
      "include_colab_link": true
    },
    "kernelspec": {
      "name": "python3",
      "display_name": "Python 3"
    },
    "language_info": {
      "name": "python"
    }
  },
  "cells": [
    {
      "cell_type": "markdown",
      "metadata": {
        "id": "view-in-github",
        "colab_type": "text"
      },
      "source": [
        "<a href=\"https://colab.research.google.com/github/gurleenkaur20/data-analytics-lab/blob/main/Lab_2(data_visualization).ipynb\" target=\"_parent\"><img src=\"https://colab.research.google.com/assets/colab-badge.svg\" alt=\"Open In Colab\"/></a>"
      ]
    },
    {
      "cell_type": "code",
      "metadata": {
        "id": "BYzOQDo6KblR"
      },
      "source": [
        "import numpy as np\n",
        "import pandas as pd\n",
        "import seaborn as sns\n",
        "import matplotlib.pyplot as plt"
      ],
      "execution_count": 7,
      "outputs": []
    },
    {
      "cell_type": "code",
      "metadata": {
        "id": "V1YkTJBRLlG8"
      },
      "source": [
        "df_ipl = pd.read_csv('IPLNEW.csv')"
      ],
      "execution_count": 8,
      "outputs": []
    },
    {
      "cell_type": "code",
      "metadata": {
        "colab": {
          "base_uri": "https://localhost:8080/"
        },
        "id": "4bkkdwPrMGai",
        "outputId": "87585783-af92-4ab4-bf4f-ad07ac900682"
      },
      "source": [
        "df_ipl.info() #object refers to categorical data"
      ],
      "execution_count": 9,
      "outputs": [
        {
          "output_type": "stream",
          "name": "stdout",
          "text": [
            "<class 'pandas.core.frame.DataFrame'>\n",
            "RangeIndex: 130 entries, 0 to 129\n",
            "Data columns (total 26 columns):\n",
            " #   Column         Non-Null Count  Dtype  \n",
            "---  ------         --------------  -----  \n",
            " 0   Sl.NO.         130 non-null    int64  \n",
            " 1   PLAYER NAME    130 non-null    object \n",
            " 2   AGE            130 non-null    int64  \n",
            " 3   COUNTRY        130 non-null    object \n",
            " 4   TEAM           130 non-null    object \n",
            " 5   PLAYING ROLE   130 non-null    object \n",
            " 6   T-RUNS         130 non-null    int64  \n",
            " 7   T-WKTS         130 non-null    int64  \n",
            " 8   ODI-RUNS-S     130 non-null    int64  \n",
            " 9   ODI-SR-B       130 non-null    float64\n",
            " 10  ODI-WKTS       130 non-null    int64  \n",
            " 11  ODI-SR-BL      130 non-null    float64\n",
            " 12  CAPTAINCY EXP  130 non-null    int64  \n",
            " 13  RUNS-S         130 non-null    int64  \n",
            " 14  HS             130 non-null    int64  \n",
            " 15  AVE            130 non-null    float64\n",
            " 16  SR-B           130 non-null    float64\n",
            " 17  SIXERS         130 non-null    int64  \n",
            " 18  RUNS-C         130 non-null    int64  \n",
            " 19  WKTS           130 non-null    int64  \n",
            " 20  AVE-BL         130 non-null    float64\n",
            " 21  ECON           130 non-null    float64\n",
            " 22  SR-BL          130 non-null    float64\n",
            " 23  AUCTION YEAR   130 non-null    int64  \n",
            " 24  BASE PRICE     130 non-null    int64  \n",
            " 25  SOLD PRICE     130 non-null    int64  \n",
            "dtypes: float64(7), int64(15), object(4)\n",
            "memory usage: 26.5+ KB\n"
          ]
        }
      ]
    },
    {
      "cell_type": "code",
      "metadata": {
        "colab": {
          "base_uri": "https://localhost:8080/",
          "height": 346
        },
        "id": "reDi1bmON74k",
        "outputId": "747e121b-ea42-40bf-c4b3-83bdcd50c044"
      },
      "source": [
        "plt.hist(df_ipl['SOLD PRICE'])"
      ],
      "execution_count": 10,
      "outputs": [
        {
          "output_type": "execute_result",
          "data": {
            "text/plain": [
              "(array([27., 32., 21., 20., 14.,  7.,  0.,  1.,  4.,  4.]),\n",
              " array([  20000.,  198000.,  376000.,  554000.,  732000.,  910000.,\n",
              "        1088000., 1266000., 1444000., 1622000., 1800000.]),\n",
              " <a list of 10 Patch objects>)"
            ]
          },
          "metadata": {},
          "execution_count": 10
        },
        {
          "output_type": "display_data",
          "data": {
            "image/png": "[encoded data removed]",
            "text/plain": [
              "<Figure size 432x288 with 1 Axes>"
            ]
          },
          "metadata": {
            "needs_background": "light"
          }
        }
      ]
    },
    {
      "cell_type": "code",
      "metadata": {
        "colab": {
          "base_uri": "https://localhost:8080/",
          "height": 396
        },
        "id": "fm_CJ2g7OI1y",
        "outputId": "4fb1c346-5275-4edb-cc76-4ef7c9058732"
      },
      "source": [
        "plt.hist(df_ipl['SOLD PRICE'],bins=20)"
      ],
      "execution_count": 11,
      "outputs": [
        {
          "output_type": "execute_result",
          "data": {
            "text/plain": [
              "(array([16., 11., 16., 16.,  9., 12.,  5., 15.,  8.,  6.,  6.,  1.,  0.,\n",
              "         0.,  1.,  0.,  1.,  3.,  0.,  4.]),\n",
              " array([  20000.,  109000.,  198000.,  287000.,  376000.,  465000.,\n",
              "         554000.,  643000.,  732000.,  821000.,  910000.,  999000.,\n",
              "        1088000., 1177000., 1266000., 1355000., 1444000., 1533000.,\n",
              "        1622000., 1711000., 1800000.]),\n",
              " <a list of 20 Patch objects>)"
            ]
          },
          "metadata": {},
          "execution_count": 11
        },
        {
          "output_type": "display_data",
          "data": {
            "image/png": "[encoded data removed]",
            "text/plain": [
              "<Figure size 432x288 with 1 Axes>"
            ]
          },
          "metadata": {
            "needs_background": "light"
          }
        }
      ]
    },
    {
      "cell_type": "code",
      "metadata": {
        "colab": {
          "base_uri": "https://localhost:8080/",
          "height": 361
        },
        "id": "Ywlz8qSoOa-K",
        "outputId": "80337742-8c78-4a01-b9c2-c9f5c318dee1"
      },
      "source": [
        "sns.distplot(df_ipl['SOLD PRICE'])"
      ],
      "execution_count": 12,
      "outputs": [
        {
          "output_type": "stream",
          "name": "stderr",
          "text": [
            "/usr/local/lib/python3.7/dist-packages/seaborn/distributions.py:2619: FutureWarning: `distplot` is a deprecated function and will be removed in a future version. Please adapt your code to use either `displot` (a figure-level function with similar flexibility) or `histplot` (an axes-level function for histograms).\n",
            "  warnings.warn(msg, FutureWarning)\n"
          ]
        },
        {
          "output_type": "execute_result",
          "data": {
            "text/plain": [
              "<matplotlib.axes._subplots.AxesSubplot at 0x7fc714e454d0>"
            ]
          },
          "metadata": {},
          "execution_count": 12
        },
        {
          "output_type": "display_data",
          "data": {
            "image/png": "[encoded data removed]",
            "text/plain": [
              "<Figure size 432x288 with 1 Axes>"
            ]
          },
          "metadata": {
            "needs_background": "light"
          }
        }
      ]
    },
    {
      "cell_type": "code",
      "metadata": {
        "colab": {
          "base_uri": "https://localhost:8080/",
          "height": 350
        },
        "id": "-JlAazCUOiVq",
        "outputId": "ba68a87e-1995-4959-c1cb-b65d5c11589b"
      },
      "source": [
        "sns.distplot(df_ipl['SOLD PRICE'], kde=False, color='r')"
      ],
      "execution_count": 13,
      "outputs": [
        {
          "output_type": "stream",
          "name": "stderr",
          "text": [
            "/usr/local/lib/python3.7/dist-packages/seaborn/distributions.py:2619: FutureWarning: `distplot` is a deprecated function and will be removed in a future version. Please adapt your code to use either `displot` (a figure-level function with similar flexibility) or `histplot` (an axes-level function for histograms).\n",
            "  warnings.warn(msg, FutureWarning)\n"
          ]
        },
        {
          "output_type": "execute_result",
          "data": {
            "text/plain": [
              "<matplotlib.axes._subplots.AxesSubplot at 0x7fc713b46090>"
            ]
          },
          "metadata": {},
          "execution_count": 13
        },
        {
          "output_type": "display_data",
          "data": {
            "image/png": "[encoded data removed]",
            "text/plain": [
              "<Figure size 432x288 with 1 Axes>"
            ]
          },
          "metadata": {
            "needs_background": "light"
          }
        }
      ]
    },
    {
      "cell_type": "code",
      "metadata": {
        "colab": {
          "base_uri": "https://localhost:8080/",
          "height": 50
        },
        "id": "R0W2Eg2VO06i",
        "outputId": "ef7e13cf-48b0-4e95-8c10-536bfe0c4e4b"
      },
      "source": [
        "plt.figure(figsize=(8,8))"
      ],
      "execution_count": 14,
      "outputs": [
        {
          "output_type": "execute_result",
          "data": {
            "text/plain": [
              "<Figure size 576x576 with 0 Axes>"
            ]
          },
          "metadata": {},
          "execution_count": 14
        },
        {
          "output_type": "display_data",
          "data": {
            "text/plain": [
              "<Figure size 576x576 with 0 Axes>"
            ]
          },
          "metadata": {}
        }
      ]
    },
    {
      "cell_type": "code",
      "metadata": {
        "colab": {
          "base_uri": "https://localhost:8080/",
          "height": 333
        },
        "id": "8m0iMZ1EO5UM",
        "outputId": "6a05efea-bd0c-4fd5-e1d9-356c45505912"
      },
      "source": [
        "box = sns.boxplot(df_ipl['SOLD PRICE'], color='y')"
      ],
      "execution_count": 15,
      "outputs": [
        {
          "output_type": "stream",
          "name": "stderr",
          "text": [
            "/usr/local/lib/python3.7/dist-packages/seaborn/_decorators.py:43: FutureWarning: Pass the following variable as a keyword arg: x. From version 0.12, the only valid positional argument will be `data`, and passing other arguments without an explicit keyword will result in an error or misinterpretation.\n",
            "  FutureWarning\n"
          ]
        },
        {
          "output_type": "display_data",
          "data": {
            "image/png": "[encoded data removed]",
            "text/plain": [
              "<Figure size 432x288 with 1 Axes>"
            ]
          },
          "metadata": {
            "needs_background": "light"
          }
        }
      ]
    },
    {
      "cell_type": "code",
      "metadata": {
        "colab": {
          "base_uri": "https://localhost:8080/"
        },
        "id": "NjUwFaoEPM5d",
        "outputId": "a76982e4-ac10-4d56-e59b-609a7b0a9e48"
      },
      "source": [
        "df_ipl.info()"
      ],
      "execution_count": 16,
      "outputs": [
        {
          "output_type": "stream",
          "name": "stdout",
          "text": [
            "<class 'pandas.core.frame.DataFrame'>\n",
            "RangeIndex: 130 entries, 0 to 129\n",
            "Data columns (total 26 columns):\n",
            " #   Column         Non-Null Count  Dtype  \n",
            "---  ------         --------------  -----  \n",
            " 0   Sl.NO.         130 non-null    int64  \n",
            " 1   PLAYER NAME    130 non-null    object \n",
            " 2   AGE            130 non-null    int64  \n",
            " 3   COUNTRY        130 non-null    object \n",
            " 4   TEAM           130 non-null    object \n",
            " 5   PLAYING ROLE   130 non-null    object \n",
            " 6   T-RUNS         130 non-null    int64  \n",
            " 7   T-WKTS         130 non-null    int64  \n",
            " 8   ODI-RUNS-S     130 non-null    int64  \n",
            " 9   ODI-SR-B       130 non-null    float64\n",
            " 10  ODI-WKTS       130 non-null    int64  \n",
            " 11  ODI-SR-BL      130 non-null    float64\n",
            " 12  CAPTAINCY EXP  130 non-null    int64  \n",
            " 13  RUNS-S         130 non-null    int64  \n",
            " 14  HS             130 non-null    int64  \n",
            " 15  AVE            130 non-null    float64\n",
            " 16  SR-B           130 non-null    float64\n",
            " 17  SIXERS         130 non-null    int64  \n",
            " 18  RUNS-C         130 non-null    int64  \n",
            " 19  WKTS           130 non-null    int64  \n",
            " 20  AVE-BL         130 non-null    float64\n",
            " 21  ECON           130 non-null    float64\n",
            " 22  SR-BL          130 non-null    float64\n",
            " 23  AUCTION YEAR   130 non-null    int64  \n",
            " 24  BASE PRICE     130 non-null    int64  \n",
            " 25  SOLD PRICE     130 non-null    int64  \n",
            "dtypes: float64(7), int64(15), object(4)\n",
            "memory usage: 26.5+ KB\n"
          ]
        }
      ]
    },
    {
      "cell_type": "code",
      "metadata": {
        "colab": {
          "base_uri": "https://localhost:8080/"
        },
        "id": "WcfIPVVhPVKa",
        "outputId": "3218a291-e52c-46ef-aa79-3eca4f04132e"
      },
      "source": [
        "df_ipl['CAPTAINCY EXP'].head()"
      ],
      "execution_count": 17,
      "outputs": [
        {
          "output_type": "execute_result",
          "data": {
            "text/plain": [
              "0    0\n",
              "1    0\n",
              "2    0\n",
              "3    0\n",
              "4    0\n",
              "Name: CAPTAINCY EXP, dtype: int64"
            ]
          },
          "metadata": {},
          "execution_count": 17
        }
      ]
    },
    {
      "cell_type": "code",
      "metadata": {
        "colab": {
          "base_uri": "https://localhost:8080/"
        },
        "id": "OVHyJR_1Prea",
        "outputId": "c00e9130-f4d6-41e2-c33b-399df23ecd78"
      },
      "source": [
        "df_ipl['CAPTAINCY EXP'].tail() #boolean data"
      ],
      "execution_count": 18,
      "outputs": [
        {
          "output_type": "execute_result",
          "data": {
            "text/plain": [
              "125    0\n",
              "126    1\n",
              "127    1\n",
              "128    0\n",
              "129    0\n",
              "Name: CAPTAINCY EXP, dtype: int64"
            ]
          },
          "metadata": {},
          "execution_count": 18
        }
      ]
    },
    {
      "cell_type": "code",
      "metadata": {
        "colab": {
          "base_uri": "https://localhost:8080/"
        },
        "id": "eUC5IIpOPxUK",
        "outputId": "ec5689fc-77ff-4985-f9e1-c38ea0e15a04"
      },
      "source": [
        "df_ipl['CAPTAINCY EXP']==1"
      ],
      "execution_count": 19,
      "outputs": [
        {
          "output_type": "execute_result",
          "data": {
            "text/plain": [
              "0      False\n",
              "1      False\n",
              "2      False\n",
              "3      False\n",
              "4      False\n",
              "       ...  \n",
              "125    False\n",
              "126     True\n",
              "127     True\n",
              "128    False\n",
              "129    False\n",
              "Name: CAPTAINCY EXP, Length: 130, dtype: bool"
            ]
          },
          "metadata": {},
          "execution_count": 19
        }
      ]
    },
    {
      "cell_type": "code",
      "metadata": {
        "id": "tehFE74bQO18"
      },
      "source": [
        "df_ipl_captaincy = df_ipl[df_ipl['CAPTAINCY EXP']==1]"
      ],
      "execution_count": 20,
      "outputs": []
    },
    {
      "cell_type": "code",
      "metadata": {
        "colab": {
          "base_uri": "https://localhost:8080/",
          "height": 307
        },
        "id": "cpwsXUhGQk1_",
        "outputId": "e58fd693-632a-495c-ac56-4a4592e7cbd6"
      },
      "source": [
        "df_ipl_captaincy.head()"
      ],
      "execution_count": 21,
      "outputs": [
        {
          "output_type": "execute_result",
          "data": {
            "text/html": [
              "<div>\n",
              "<style scoped>\n",
              "    .dataframe tbody tr th:only-of-type {\n",
              "        vertical-align: middle;\n",
              "    }\n",
              "\n",
              "    .dataframe tbody tr th {\n",
              "        vertical-align: top;\n",
              "    }\n",
              "\n",
              "    .dataframe thead th {\n",
              "        text-align: right;\n",
              "    }\n",
              "</style>\n",
              "<table border=\"1\" class=\"dataframe\">\n",
              "  <thead>\n",
              "    <tr style=\"text-align: right;\">\n",
              "      <th></th>\n",
              "      <th>Sl.NO.</th>\n",
              "      <th>PLAYER NAME</th>\n",
              "      <th>AGE</th>\n",
              "      <th>COUNTRY</th>\n",
              "      <th>TEAM</th>\n",
              "      <th>PLAYING ROLE</th>\n",
              "      <th>T-RUNS</th>\n",
              "      <th>T-WKTS</th>\n",
              "      <th>ODI-RUNS-S</th>\n",
              "      <th>ODI-SR-B</th>\n",
              "      <th>ODI-WKTS</th>\n",
              "      <th>ODI-SR-BL</th>\n",
              "      <th>CAPTAINCY EXP</th>\n",
              "      <th>RUNS-S</th>\n",
              "      <th>HS</th>\n",
              "      <th>AVE</th>\n",
              "      <th>SR-B</th>\n",
              "      <th>SIXERS</th>\n",
              "      <th>RUNS-C</th>\n",
              "      <th>WKTS</th>\n",
              "      <th>AVE-BL</th>\n",
              "      <th>ECON</th>\n",
              "      <th>SR-BL</th>\n",
              "      <th>AUCTION YEAR</th>\n",
              "      <th>BASE PRICE</th>\n",
              "      <th>SOLD PRICE</th>\n",
              "    </tr>\n",
              "  </thead>\n",
              "  <tbody>\n",
              "    <tr>\n",
              "      <th>5</th>\n",
              "      <td>6</td>\n",
              "      <td>Bailey, GJ</td>\n",
              "      <td>2</td>\n",
              "      <td>AUS</td>\n",
              "      <td>CSK</td>\n",
              "      <td>Batsman</td>\n",
              "      <td>0</td>\n",
              "      <td>0</td>\n",
              "      <td>172</td>\n",
              "      <td>72.26</td>\n",
              "      <td>0</td>\n",
              "      <td>0.0</td>\n",
              "      <td>1</td>\n",
              "      <td>63</td>\n",
              "      <td>48</td>\n",
              "      <td>21.00</td>\n",
              "      <td>95.45</td>\n",
              "      <td>0</td>\n",
              "      <td>0</td>\n",
              "      <td>0</td>\n",
              "      <td>0.00</td>\n",
              "      <td>0.00</td>\n",
              "      <td>0.00</td>\n",
              "      <td>2009</td>\n",
              "      <td>50000</td>\n",
              "      <td>50000</td>\n",
              "    </tr>\n",
              "    <tr>\n",
              "      <th>8</th>\n",
              "      <td>9</td>\n",
              "      <td>Botha, J</td>\n",
              "      <td>2</td>\n",
              "      <td>SA</td>\n",
              "      <td>RR</td>\n",
              "      <td>Allrounder</td>\n",
              "      <td>83</td>\n",
              "      <td>17</td>\n",
              "      <td>609</td>\n",
              "      <td>85.77</td>\n",
              "      <td>72</td>\n",
              "      <td>53.0</td>\n",
              "      <td>1</td>\n",
              "      <td>335</td>\n",
              "      <td>67</td>\n",
              "      <td>30.45</td>\n",
              "      <td>114.73</td>\n",
              "      <td>3</td>\n",
              "      <td>610</td>\n",
              "      <td>19</td>\n",
              "      <td>32.11</td>\n",
              "      <td>6.85</td>\n",
              "      <td>28.11</td>\n",
              "      <td>2011</td>\n",
              "      <td>200000</td>\n",
              "      <td>950000</td>\n",
              "    </tr>\n",
              "    <tr>\n",
              "      <th>9</th>\n",
              "      <td>10</td>\n",
              "      <td>Boucher, MV</td>\n",
              "      <td>2</td>\n",
              "      <td>SA</td>\n",
              "      <td>RCB+</td>\n",
              "      <td>W. Keeper</td>\n",
              "      <td>5515</td>\n",
              "      <td>1</td>\n",
              "      <td>4686</td>\n",
              "      <td>84.76</td>\n",
              "      <td>0</td>\n",
              "      <td>0.0</td>\n",
              "      <td>1</td>\n",
              "      <td>394</td>\n",
              "      <td>50</td>\n",
              "      <td>28.14</td>\n",
              "      <td>127.51</td>\n",
              "      <td>13</td>\n",
              "      <td>0</td>\n",
              "      <td>0</td>\n",
              "      <td>0.00</td>\n",
              "      <td>0.00</td>\n",
              "      <td>0.00</td>\n",
              "      <td>2008</td>\n",
              "      <td>200000</td>\n",
              "      <td>450000</td>\n",
              "    </tr>\n",
              "    <tr>\n",
              "      <th>11</th>\n",
              "      <td>12</td>\n",
              "      <td>Chanderpaul, S</td>\n",
              "      <td>3</td>\n",
              "      <td>WI</td>\n",
              "      <td>RCB</td>\n",
              "      <td>Batsman</td>\n",
              "      <td>9918</td>\n",
              "      <td>9</td>\n",
              "      <td>8778</td>\n",
              "      <td>70.74</td>\n",
              "      <td>14</td>\n",
              "      <td>52.8</td>\n",
              "      <td>1</td>\n",
              "      <td>25</td>\n",
              "      <td>16</td>\n",
              "      <td>8.33</td>\n",
              "      <td>80.64</td>\n",
              "      <td>0</td>\n",
              "      <td>0</td>\n",
              "      <td>0</td>\n",
              "      <td>0.00</td>\n",
              "      <td>0.00</td>\n",
              "      <td>0.00</td>\n",
              "      <td>2008</td>\n",
              "      <td>200000</td>\n",
              "      <td>200000</td>\n",
              "    </tr>\n",
              "    <tr>\n",
              "      <th>13</th>\n",
              "      <td>14</td>\n",
              "      <td>de Villiers, AB</td>\n",
              "      <td>2</td>\n",
              "      <td>SA</td>\n",
              "      <td>DD+</td>\n",
              "      <td>W. Keeper</td>\n",
              "      <td>5457</td>\n",
              "      <td>2</td>\n",
              "      <td>4998</td>\n",
              "      <td>93.19</td>\n",
              "      <td>0</td>\n",
              "      <td>0.0</td>\n",
              "      <td>1</td>\n",
              "      <td>1302</td>\n",
              "      <td>105</td>\n",
              "      <td>34.26</td>\n",
              "      <td>128.53</td>\n",
              "      <td>42</td>\n",
              "      <td>0</td>\n",
              "      <td>0</td>\n",
              "      <td>0.00</td>\n",
              "      <td>0.00</td>\n",
              "      <td>0.00</td>\n",
              "      <td>2008</td>\n",
              "      <td>200000</td>\n",
              "      <td>300000</td>\n",
              "    </tr>\n",
              "  </tbody>\n",
              "</table>\n",
              "</div>"
            ],
            "text/plain": [
              "    Sl.NO.      PLAYER NAME  AGE  ... AUCTION YEAR BASE PRICE SOLD PRICE\n",
              "5        6       Bailey, GJ    2  ...         2009      50000      50000\n",
              "8        9         Botha, J    2  ...         2011     200000     950000\n",
              "9       10      Boucher, MV    2  ...         2008     200000     450000\n",
              "11      12   Chanderpaul, S    3  ...         2008     200000     200000\n",
              "13      14  de Villiers, AB    2  ...         2008     200000     300000\n",
              "\n",
              "[5 rows x 26 columns]"
            ]
          },
          "metadata": {},
          "execution_count": 21
        }
      ]
    },
    {
      "cell_type": "code",
      "metadata": {
        "id": "suA-tEOfQoVk"
      },
      "source": [
        "df_ipl_withoutcaptaincy = df_ipl[df_ipl['CAPTAINCY EXP']==0]"
      ],
      "execution_count": 22,
      "outputs": []
    },
    {
      "cell_type": "code",
      "metadata": {
        "colab": {
          "base_uri": "https://localhost:8080/",
          "height": 324
        },
        "id": "w2Jv2PhJRFYT",
        "outputId": "230807df-b78c-471c-a17b-6fa7da066aac"
      },
      "source": [
        "df_ipl_withoutcaptaincy.head()"
      ],
      "execution_count": 23,
      "outputs": [
        {
          "output_type": "execute_result",
          "data": {
            "text/html": [
              "<div>\n",
              "<style scoped>\n",
              "    .dataframe tbody tr th:only-of-type {\n",
              "        vertical-align: middle;\n",
              "    }\n",
              "\n",
              "    .dataframe tbody tr th {\n",
              "        vertical-align: top;\n",
              "    }\n",
              "\n",
              "    .dataframe thead th {\n",
              "        text-align: right;\n",
              "    }\n",
              "</style>\n",
              "<table border=\"1\" class=\"dataframe\">\n",
              "  <thead>\n",
              "    <tr style=\"text-align: right;\">\n",
              "      <th></th>\n",
              "      <th>Sl.NO.</th>\n",
              "      <th>PLAYER NAME</th>\n",
              "      <th>AGE</th>\n",
              "      <th>COUNTRY</th>\n",
              "      <th>TEAM</th>\n",
              "      <th>PLAYING ROLE</th>\n",
              "      <th>T-RUNS</th>\n",
              "      <th>T-WKTS</th>\n",
              "      <th>ODI-RUNS-S</th>\n",
              "      <th>ODI-SR-B</th>\n",
              "      <th>ODI-WKTS</th>\n",
              "      <th>ODI-SR-BL</th>\n",
              "      <th>CAPTAINCY EXP</th>\n",
              "      <th>RUNS-S</th>\n",
              "      <th>HS</th>\n",
              "      <th>AVE</th>\n",
              "      <th>SR-B</th>\n",
              "      <th>SIXERS</th>\n",
              "      <th>RUNS-C</th>\n",
              "      <th>WKTS</th>\n",
              "      <th>AVE-BL</th>\n",
              "      <th>ECON</th>\n",
              "      <th>SR-BL</th>\n",
              "      <th>AUCTION YEAR</th>\n",
              "      <th>BASE PRICE</th>\n",
              "      <th>SOLD PRICE</th>\n",
              "    </tr>\n",
              "  </thead>\n",
              "  <tbody>\n",
              "    <tr>\n",
              "      <th>0</th>\n",
              "      <td>1</td>\n",
              "      <td>Abdulla, YA</td>\n",
              "      <td>2</td>\n",
              "      <td>SA</td>\n",
              "      <td>KXIP</td>\n",
              "      <td>Allrounder</td>\n",
              "      <td>0</td>\n",
              "      <td>0</td>\n",
              "      <td>0</td>\n",
              "      <td>0.00</td>\n",
              "      <td>0</td>\n",
              "      <td>0.0</td>\n",
              "      <td>0</td>\n",
              "      <td>0</td>\n",
              "      <td>0</td>\n",
              "      <td>0.00</td>\n",
              "      <td>0.00</td>\n",
              "      <td>0</td>\n",
              "      <td>307</td>\n",
              "      <td>15</td>\n",
              "      <td>20.47</td>\n",
              "      <td>8.90</td>\n",
              "      <td>13.93</td>\n",
              "      <td>2009</td>\n",
              "      <td>50000</td>\n",
              "      <td>50000</td>\n",
              "    </tr>\n",
              "    <tr>\n",
              "      <th>1</th>\n",
              "      <td>2</td>\n",
              "      <td>Abdur Razzak</td>\n",
              "      <td>2</td>\n",
              "      <td>BAN</td>\n",
              "      <td>RCB</td>\n",
              "      <td>Bowler</td>\n",
              "      <td>214</td>\n",
              "      <td>18</td>\n",
              "      <td>657</td>\n",
              "      <td>71.41</td>\n",
              "      <td>185</td>\n",
              "      <td>37.6</td>\n",
              "      <td>0</td>\n",
              "      <td>0</td>\n",
              "      <td>0</td>\n",
              "      <td>0.00</td>\n",
              "      <td>0.00</td>\n",
              "      <td>0</td>\n",
              "      <td>29</td>\n",
              "      <td>0</td>\n",
              "      <td>0.00</td>\n",
              "      <td>14.50</td>\n",
              "      <td>0.00</td>\n",
              "      <td>2008</td>\n",
              "      <td>50000</td>\n",
              "      <td>50000</td>\n",
              "    </tr>\n",
              "    <tr>\n",
              "      <th>2</th>\n",
              "      <td>3</td>\n",
              "      <td>Agarkar, AB</td>\n",
              "      <td>2</td>\n",
              "      <td>IND</td>\n",
              "      <td>KKR</td>\n",
              "      <td>Bowler</td>\n",
              "      <td>571</td>\n",
              "      <td>58</td>\n",
              "      <td>1269</td>\n",
              "      <td>80.62</td>\n",
              "      <td>288</td>\n",
              "      <td>32.9</td>\n",
              "      <td>0</td>\n",
              "      <td>167</td>\n",
              "      <td>39</td>\n",
              "      <td>18.56</td>\n",
              "      <td>121.01</td>\n",
              "      <td>5</td>\n",
              "      <td>1059</td>\n",
              "      <td>29</td>\n",
              "      <td>36.52</td>\n",
              "      <td>8.81</td>\n",
              "      <td>24.90</td>\n",
              "      <td>2008</td>\n",
              "      <td>200000</td>\n",
              "      <td>350000</td>\n",
              "    </tr>\n",
              "    <tr>\n",
              "      <th>3</th>\n",
              "      <td>4</td>\n",
              "      <td>Ashwin, R</td>\n",
              "      <td>1</td>\n",
              "      <td>IND</td>\n",
              "      <td>CSK</td>\n",
              "      <td>Bowler</td>\n",
              "      <td>284</td>\n",
              "      <td>31</td>\n",
              "      <td>241</td>\n",
              "      <td>84.56</td>\n",
              "      <td>51</td>\n",
              "      <td>36.8</td>\n",
              "      <td>0</td>\n",
              "      <td>58</td>\n",
              "      <td>11</td>\n",
              "      <td>5.80</td>\n",
              "      <td>76.32</td>\n",
              "      <td>0</td>\n",
              "      <td>1125</td>\n",
              "      <td>49</td>\n",
              "      <td>22.96</td>\n",
              "      <td>6.23</td>\n",
              "      <td>22.14</td>\n",
              "      <td>2011</td>\n",
              "      <td>100000</td>\n",
              "      <td>850000</td>\n",
              "    </tr>\n",
              "    <tr>\n",
              "      <th>4</th>\n",
              "      <td>5</td>\n",
              "      <td>Badrinath, S</td>\n",
              "      <td>2</td>\n",
              "      <td>IND</td>\n",
              "      <td>CSK</td>\n",
              "      <td>Batsman</td>\n",
              "      <td>63</td>\n",
              "      <td>0</td>\n",
              "      <td>79</td>\n",
              "      <td>45.93</td>\n",
              "      <td>0</td>\n",
              "      <td>0.0</td>\n",
              "      <td>0</td>\n",
              "      <td>1317</td>\n",
              "      <td>71</td>\n",
              "      <td>32.93</td>\n",
              "      <td>120.71</td>\n",
              "      <td>28</td>\n",
              "      <td>0</td>\n",
              "      <td>0</td>\n",
              "      <td>0.00</td>\n",
              "      <td>0.00</td>\n",
              "      <td>0.00</td>\n",
              "      <td>2011</td>\n",
              "      <td>100000</td>\n",
              "      <td>800000</td>\n",
              "    </tr>\n",
              "  </tbody>\n",
              "</table>\n",
              "</div>"
            ],
            "text/plain": [
              "   Sl.NO.   PLAYER NAME  AGE  ... AUCTION YEAR BASE PRICE SOLD PRICE\n",
              "0       1   Abdulla, YA    2  ...         2009      50000      50000\n",
              "1       2  Abdur Razzak    2  ...         2008      50000      50000\n",
              "2       3   Agarkar, AB    2  ...         2008     200000     350000\n",
              "3       4     Ashwin, R    1  ...         2011     100000     850000\n",
              "4       5  Badrinath, S    2  ...         2011     100000     800000\n",
              "\n",
              "[5 rows x 26 columns]"
            ]
          },
          "metadata": {},
          "execution_count": 23
        }
      ]
    },
    {
      "cell_type": "code",
      "metadata": {
        "colab": {
          "base_uri": "https://localhost:8080/",
          "height": 557
        },
        "id": "eIgmtmUzRIi7",
        "outputId": "2fa8576b-4b2a-4cad-9778-8ad0a9bba420"
      },
      "source": [
        "plt.figure(figsize=(7,7))\n",
        "sns.distplot(df_ipl_captaincy['SOLD PRICE'], color='b', label=\"With exp\")\n",
        "sns.distplot(df_ipl_withoutcaptaincy['SOLD PRICE'], color= 'y', label = \"Without exp\")\n",
        "plt.legend() #plotting graph between sold price and captaincy experience and we see that people with captaincy experience has more sold price"
      ],
      "execution_count": 28,
      "outputs": [
        {
          "output_type": "stream",
          "name": "stderr",
          "text": [
            "/usr/local/lib/python3.7/dist-packages/seaborn/distributions.py:2619: FutureWarning: `distplot` is a deprecated function and will be removed in a future version. Please adapt your code to use either `displot` (a figure-level function with similar flexibility) or `histplot` (an axes-level function for histograms).\n",
            "  warnings.warn(msg, FutureWarning)\n",
            "/usr/local/lib/python3.7/dist-packages/seaborn/distributions.py:2619: FutureWarning: `distplot` is a deprecated function and will be removed in a future version. Please adapt your code to use either `displot` (a figure-level function with similar flexibility) or `histplot` (an axes-level function for histograms).\n",
            "  warnings.warn(msg, FutureWarning)\n"
          ]
        },
        {
          "output_type": "execute_result",
          "data": {
            "text/plain": [
              "<matplotlib.legend.Legend at 0x7fc70ce39d90>"
            ]
          },
          "metadata": {},
          "execution_count": 28
        },
        {
          "output_type": "display_data",
          "data": {
            "image/png": "[encoded data removed]",
            "text/plain": [
              "<Figure size 504x504 with 1 Axes>"
            ]
          },
          "metadata": {
            "needs_background": "light"
          }
        }
      ]
    },
    {
      "cell_type": "code",
      "metadata": {
        "colab": {
          "base_uri": "https://localhost:8080/"
        },
        "id": "rwvla_-sRrBC",
        "outputId": "3ecbe811-07f4-413a-dc8f-99bfb276a614"
      },
      "source": [
        "df_ipl.info()"
      ],
      "execution_count": 29,
      "outputs": [
        {
          "output_type": "stream",
          "name": "stdout",
          "text": [
            "<class 'pandas.core.frame.DataFrame'>\n",
            "RangeIndex: 130 entries, 0 to 129\n",
            "Data columns (total 26 columns):\n",
            " #   Column         Non-Null Count  Dtype  \n",
            "---  ------         --------------  -----  \n",
            " 0   Sl.NO.         130 non-null    int64  \n",
            " 1   PLAYER NAME    130 non-null    object \n",
            " 2   AGE            130 non-null    int64  \n",
            " 3   COUNTRY        130 non-null    object \n",
            " 4   TEAM           130 non-null    object \n",
            " 5   PLAYING ROLE   130 non-null    object \n",
            " 6   T-RUNS         130 non-null    int64  \n",
            " 7   T-WKTS         130 non-null    int64  \n",
            " 8   ODI-RUNS-S     130 non-null    int64  \n",
            " 9   ODI-SR-B       130 non-null    float64\n",
            " 10  ODI-WKTS       130 non-null    int64  \n",
            " 11  ODI-SR-BL      130 non-null    float64\n",
            " 12  CAPTAINCY EXP  130 non-null    int64  \n",
            " 13  RUNS-S         130 non-null    int64  \n",
            " 14  HS             130 non-null    int64  \n",
            " 15  AVE            130 non-null    float64\n",
            " 16  SR-B           130 non-null    float64\n",
            " 17  SIXERS         130 non-null    int64  \n",
            " 18  RUNS-C         130 non-null    int64  \n",
            " 19  WKTS           130 non-null    int64  \n",
            " 20  AVE-BL         130 non-null    float64\n",
            " 21  ECON           130 non-null    float64\n",
            " 22  SR-BL          130 non-null    float64\n",
            " 23  AUCTION YEAR   130 non-null    int64  \n",
            " 24  BASE PRICE     130 non-null    int64  \n",
            " 25  SOLD PRICE     130 non-null    int64  \n",
            "dtypes: float64(7), int64(15), object(4)\n",
            "memory usage: 26.5+ KB\n"
          ]
        }
      ]
    },
    {
      "cell_type": "code",
      "metadata": {
        "colab": {
          "base_uri": "https://localhost:8080/"
        },
        "id": "R1W_GlVcTOPO",
        "outputId": "78974e9d-599b-4912-dc13-c14df8160ccb"
      },
      "source": [
        "df_ipl['PLAYING ROLE'].head()"
      ],
      "execution_count": 30,
      "outputs": [
        {
          "output_type": "execute_result",
          "data": {
            "text/plain": [
              "0    Allrounder\n",
              "1        Bowler\n",
              "2        Bowler\n",
              "3        Bowler\n",
              "4       Batsman\n",
              "Name: PLAYING ROLE, dtype: object"
            ]
          },
          "metadata": {},
          "execution_count": 30
        }
      ]
    },
    {
      "cell_type": "code",
      "metadata": {
        "colab": {
          "base_uri": "https://localhost:8080/"
        },
        "id": "p3QDYO_aTaWq",
        "outputId": "9739c3bb-497a-4b85-d183-6357ec3463ef"
      },
      "source": [
        "df_ipl['PLAYING ROLE'].tail()"
      ],
      "execution_count": 31,
      "outputs": [
        {
          "output_type": "execute_result",
          "data": {
            "text/plain": [
              "125    Batsman\n",
              "126    Batsman\n",
              "127    Batsman\n",
              "128     Bowler\n",
              "129     Bowler\n",
              "Name: PLAYING ROLE, dtype: object"
            ]
          },
          "metadata": {},
          "execution_count": 31
        }
      ]
    },
    {
      "cell_type": "code",
      "metadata": {
        "colab": {
          "base_uri": "https://localhost:8080/"
        },
        "id": "LgVF76_xTetq",
        "outputId": "347acded-38d3-4b52-8fa2-6cd41ba5db5e"
      },
      "source": [
        "df_ipl['PLAYING ROLE'].value_counts()"
      ],
      "execution_count": 33,
      "outputs": [
        {
          "output_type": "execute_result",
          "data": {
            "text/plain": [
              "Bowler        44\n",
              "Batsman       39\n",
              "Allrounder    35\n",
              "W. Keeper     12\n",
              "Name: PLAYING ROLE, dtype: int64"
            ]
          },
          "metadata": {},
          "execution_count": 33
        }
      ]
    },
    {
      "cell_type": "code",
      "metadata": {
        "colab": {
          "base_uri": "https://localhost:8080/",
          "height": 307
        },
        "id": "aJ_kTJBETu-i",
        "outputId": "5757f071-e551-4d5f-c81a-1d306c1e20fd"
      },
      "source": [
        "sns.boxplot( x= 'PLAYING ROLE', y= 'SOLD PRICE', data= df_ipl)"
      ],
      "execution_count": 36,
      "outputs": [
        {
          "output_type": "execute_result",
          "data": {
            "text/plain": [
              "<matplotlib.axes._subplots.AxesSubplot at 0x7fc70cc53b90>"
            ]
          },
          "metadata": {},
          "execution_count": 36
        },
        {
          "output_type": "display_data",
          "data": {
            "image/png": "[encoded data removed]",
            "text/plain": [
              "<Figure size 432x288 with 1 Axes>"
            ]
          },
          "metadata": {
            "needs_background": "light"
          }
        }
      ]
    },
    {
      "cell_type": "code",
      "metadata": {
        "colab": {
          "base_uri": "https://localhost:8080/"
        },
        "id": "EbSW_-vyVGmB",
        "outputId": "da153ec1-9fb7-41db-895c-9bbcc1bcadb0"
      },
      "source": [
        "df_ipl['PLAYING ROLE']=='Batsman'"
      ],
      "execution_count": 37,
      "outputs": [
        {
          "output_type": "execute_result",
          "data": {
            "text/plain": [
              "0      False\n",
              "1      False\n",
              "2      False\n",
              "3      False\n",
              "4       True\n",
              "       ...  \n",
              "125     True\n",
              "126     True\n",
              "127     True\n",
              "128    False\n",
              "129    False\n",
              "Name: PLAYING ROLE, Length: 130, dtype: bool"
            ]
          },
          "metadata": {},
          "execution_count": 37
        }
      ]
    },
    {
      "cell_type": "code",
      "metadata": {
        "id": "pDEwzoiTXlTD"
      },
      "source": [
        "df_ipl_batsman = df_ipl[df_ipl['PLAYING ROLE']=='Batsman']"
      ],
      "execution_count": 38,
      "outputs": []
    },
    {
      "cell_type": "code",
      "metadata": {
        "colab": {
          "base_uri": "https://localhost:8080/",
          "height": 274
        },
        "id": "C8kk0-vFXqgj",
        "outputId": "6899a1b9-e246-40d4-daf5-b6014bf34aa4"
      },
      "source": [
        "df_ipl_batsman.head()"
      ],
      "execution_count": 39,
      "outputs": [
        {
          "output_type": "execute_result",
          "data": {
            "text/html": [
              "<div>\n",
              "<style scoped>\n",
              "    .dataframe tbody tr th:only-of-type {\n",
              "        vertical-align: middle;\n",
              "    }\n",
              "\n",
              "    .dataframe tbody tr th {\n",
              "        vertical-align: top;\n",
              "    }\n",
              "\n",
              "    .dataframe thead th {\n",
              "        text-align: right;\n",
              "    }\n",
              "</style>\n",
              "<table border=\"1\" class=\"dataframe\">\n",
              "  <thead>\n",
              "    <tr style=\"text-align: right;\">\n",
              "      <th></th>\n",
              "      <th>Sl.NO.</th>\n",
              "      <th>PLAYER NAME</th>\n",
              "      <th>AGE</th>\n",
              "      <th>COUNTRY</th>\n",
              "      <th>TEAM</th>\n",
              "      <th>PLAYING ROLE</th>\n",
              "      <th>T-RUNS</th>\n",
              "      <th>T-WKTS</th>\n",
              "      <th>ODI-RUNS-S</th>\n",
              "      <th>ODI-SR-B</th>\n",
              "      <th>ODI-WKTS</th>\n",
              "      <th>ODI-SR-BL</th>\n",
              "      <th>CAPTAINCY EXP</th>\n",
              "      <th>RUNS-S</th>\n",
              "      <th>HS</th>\n",
              "      <th>AVE</th>\n",
              "      <th>SR-B</th>\n",
              "      <th>SIXERS</th>\n",
              "      <th>RUNS-C</th>\n",
              "      <th>WKTS</th>\n",
              "      <th>AVE-BL</th>\n",
              "      <th>ECON</th>\n",
              "      <th>SR-BL</th>\n",
              "      <th>AUCTION YEAR</th>\n",
              "      <th>BASE PRICE</th>\n",
              "      <th>SOLD PRICE</th>\n",
              "    </tr>\n",
              "  </thead>\n",
              "  <tbody>\n",
              "    <tr>\n",
              "      <th>4</th>\n",
              "      <td>5</td>\n",
              "      <td>Badrinath, S</td>\n",
              "      <td>2</td>\n",
              "      <td>IND</td>\n",
              "      <td>CSK</td>\n",
              "      <td>Batsman</td>\n",
              "      <td>63</td>\n",
              "      <td>0</td>\n",
              "      <td>79</td>\n",
              "      <td>45.93</td>\n",
              "      <td>0</td>\n",
              "      <td>0.0</td>\n",
              "      <td>0</td>\n",
              "      <td>1317</td>\n",
              "      <td>71</td>\n",
              "      <td>32.93</td>\n",
              "      <td>120.71</td>\n",
              "      <td>28</td>\n",
              "      <td>0</td>\n",
              "      <td>0</td>\n",
              "      <td>0.0</td>\n",
              "      <td>0.00</td>\n",
              "      <td>0.0</td>\n",
              "      <td>2011</td>\n",
              "      <td>100000</td>\n",
              "      <td>800000</td>\n",
              "    </tr>\n",
              "    <tr>\n",
              "      <th>5</th>\n",
              "      <td>6</td>\n",
              "      <td>Bailey, GJ</td>\n",
              "      <td>2</td>\n",
              "      <td>AUS</td>\n",
              "      <td>CSK</td>\n",
              "      <td>Batsman</td>\n",
              "      <td>0</td>\n",
              "      <td>0</td>\n",
              "      <td>172</td>\n",
              "      <td>72.26</td>\n",
              "      <td>0</td>\n",
              "      <td>0.0</td>\n",
              "      <td>1</td>\n",
              "      <td>63</td>\n",
              "      <td>48</td>\n",
              "      <td>21.00</td>\n",
              "      <td>95.45</td>\n",
              "      <td>0</td>\n",
              "      <td>0</td>\n",
              "      <td>0</td>\n",
              "      <td>0.0</td>\n",
              "      <td>0.00</td>\n",
              "      <td>0.0</td>\n",
              "      <td>2009</td>\n",
              "      <td>50000</td>\n",
              "      <td>50000</td>\n",
              "    </tr>\n",
              "    <tr>\n",
              "      <th>11</th>\n",
              "      <td>12</td>\n",
              "      <td>Chanderpaul, S</td>\n",
              "      <td>3</td>\n",
              "      <td>WI</td>\n",
              "      <td>RCB</td>\n",
              "      <td>Batsman</td>\n",
              "      <td>9918</td>\n",
              "      <td>9</td>\n",
              "      <td>8778</td>\n",
              "      <td>70.74</td>\n",
              "      <td>14</td>\n",
              "      <td>52.8</td>\n",
              "      <td>1</td>\n",
              "      <td>25</td>\n",
              "      <td>16</td>\n",
              "      <td>8.33</td>\n",
              "      <td>80.64</td>\n",
              "      <td>0</td>\n",
              "      <td>0</td>\n",
              "      <td>0</td>\n",
              "      <td>0.0</td>\n",
              "      <td>0.00</td>\n",
              "      <td>0.0</td>\n",
              "      <td>2008</td>\n",
              "      <td>200000</td>\n",
              "      <td>200000</td>\n",
              "    </tr>\n",
              "    <tr>\n",
              "      <th>14</th>\n",
              "      <td>15</td>\n",
              "      <td>Dhawan, S</td>\n",
              "      <td>2</td>\n",
              "      <td>IND</td>\n",
              "      <td>MI+</td>\n",
              "      <td>Batsman</td>\n",
              "      <td>0</td>\n",
              "      <td>0</td>\n",
              "      <td>69</td>\n",
              "      <td>56.09</td>\n",
              "      <td>0</td>\n",
              "      <td>0.0</td>\n",
              "      <td>0</td>\n",
              "      <td>1540</td>\n",
              "      <td>95</td>\n",
              "      <td>31.43</td>\n",
              "      <td>122.32</td>\n",
              "      <td>36</td>\n",
              "      <td>66</td>\n",
              "      <td>4</td>\n",
              "      <td>16.5</td>\n",
              "      <td>8.25</td>\n",
              "      <td>12.0</td>\n",
              "      <td>2011</td>\n",
              "      <td>100000</td>\n",
              "      <td>300000</td>\n",
              "    </tr>\n",
              "    <tr>\n",
              "      <th>18</th>\n",
              "      <td>19</td>\n",
              "      <td>Dravid, RS</td>\n",
              "      <td>3</td>\n",
              "      <td>IND</td>\n",
              "      <td>RCB+</td>\n",
              "      <td>Batsman</td>\n",
              "      <td>13288</td>\n",
              "      <td>1</td>\n",
              "      <td>10889</td>\n",
              "      <td>71.24</td>\n",
              "      <td>4</td>\n",
              "      <td>46.5</td>\n",
              "      <td>1</td>\n",
              "      <td>1703</td>\n",
              "      <td>75</td>\n",
              "      <td>27.92</td>\n",
              "      <td>116.88</td>\n",
              "      <td>23</td>\n",
              "      <td>0</td>\n",
              "      <td>0</td>\n",
              "      <td>0.0</td>\n",
              "      <td>0.00</td>\n",
              "      <td>0.0</td>\n",
              "      <td>2011</td>\n",
              "      <td>400000</td>\n",
              "      <td>500000</td>\n",
              "    </tr>\n",
              "  </tbody>\n",
              "</table>\n",
              "</div>"
            ],
            "text/plain": [
              "    Sl.NO.     PLAYER NAME  AGE  ... AUCTION YEAR BASE PRICE SOLD PRICE\n",
              "4        5    Badrinath, S    2  ...         2011     100000     800000\n",
              "5        6      Bailey, GJ    2  ...         2009      50000      50000\n",
              "11      12  Chanderpaul, S    3  ...         2008     200000     200000\n",
              "14      15       Dhawan, S    2  ...         2011     100000     300000\n",
              "18      19      Dravid, RS    3  ...         2011     400000     500000\n",
              "\n",
              "[5 rows x 26 columns]"
            ]
          },
          "metadata": {},
          "execution_count": 39
        }
      ]
    },
    {
      "cell_type": "code",
      "metadata": {
        "colab": {
          "base_uri": "https://localhost:8080/",
          "height": 341
        },
        "id": "ZaQtFEZDXuCz",
        "outputId": "3275d825-2043-4256-8f37-0c7e92eb40ef"
      },
      "source": [
        "df_ipl_batsman.tail()"
      ],
      "execution_count": 40,
      "outputs": [
        {
          "output_type": "execute_result",
          "data": {
            "text/html": [
              "<div>\n",
              "<style scoped>\n",
              "    .dataframe tbody tr th:only-of-type {\n",
              "        vertical-align: middle;\n",
              "    }\n",
              "\n",
              "    .dataframe tbody tr th {\n",
              "        vertical-align: top;\n",
              "    }\n",
              "\n",
              "    .dataframe thead th {\n",
              "        text-align: right;\n",
              "    }\n",
              "</style>\n",
              "<table border=\"1\" class=\"dataframe\">\n",
              "  <thead>\n",
              "    <tr style=\"text-align: right;\">\n",
              "      <th></th>\n",
              "      <th>Sl.NO.</th>\n",
              "      <th>PLAYER NAME</th>\n",
              "      <th>AGE</th>\n",
              "      <th>COUNTRY</th>\n",
              "      <th>TEAM</th>\n",
              "      <th>PLAYING ROLE</th>\n",
              "      <th>T-RUNS</th>\n",
              "      <th>T-WKTS</th>\n",
              "      <th>ODI-RUNS-S</th>\n",
              "      <th>ODI-SR-B</th>\n",
              "      <th>ODI-WKTS</th>\n",
              "      <th>ODI-SR-BL</th>\n",
              "      <th>CAPTAINCY EXP</th>\n",
              "      <th>RUNS-S</th>\n",
              "      <th>HS</th>\n",
              "      <th>AVE</th>\n",
              "      <th>SR-B</th>\n",
              "      <th>SIXERS</th>\n",
              "      <th>RUNS-C</th>\n",
              "      <th>WKTS</th>\n",
              "      <th>AVE-BL</th>\n",
              "      <th>ECON</th>\n",
              "      <th>SR-BL</th>\n",
              "      <th>AUCTION YEAR</th>\n",
              "      <th>BASE PRICE</th>\n",
              "      <th>SOLD PRICE</th>\n",
              "    </tr>\n",
              "  </thead>\n",
              "  <tbody>\n",
              "    <tr>\n",
              "      <th>123</th>\n",
              "      <td>124</td>\n",
              "      <td>Warner, DA</td>\n",
              "      <td>1</td>\n",
              "      <td>AUS</td>\n",
              "      <td>DD</td>\n",
              "      <td>Batsman</td>\n",
              "      <td>483</td>\n",
              "      <td>2</td>\n",
              "      <td>876</td>\n",
              "      <td>85.79</td>\n",
              "      <td>0</td>\n",
              "      <td>0.0</td>\n",
              "      <td>0</td>\n",
              "      <td>1025</td>\n",
              "      <td>109</td>\n",
              "      <td>27.70</td>\n",
              "      <td>135.76</td>\n",
              "      <td>44</td>\n",
              "      <td>0</td>\n",
              "      <td>0</td>\n",
              "      <td>0.00</td>\n",
              "      <td>0.00</td>\n",
              "      <td>0.00</td>\n",
              "      <td>2011</td>\n",
              "      <td>200000</td>\n",
              "      <td>750000</td>\n",
              "    </tr>\n",
              "    <tr>\n",
              "      <th>124</th>\n",
              "      <td>125</td>\n",
              "      <td>White, CL</td>\n",
              "      <td>2</td>\n",
              "      <td>AUS</td>\n",
              "      <td>RCB+</td>\n",
              "      <td>Batsman</td>\n",
              "      <td>146</td>\n",
              "      <td>5</td>\n",
              "      <td>2037</td>\n",
              "      <td>80.48</td>\n",
              "      <td>12</td>\n",
              "      <td>27.5</td>\n",
              "      <td>1</td>\n",
              "      <td>745</td>\n",
              "      <td>78</td>\n",
              "      <td>31.04</td>\n",
              "      <td>132.09</td>\n",
              "      <td>29</td>\n",
              "      <td>70</td>\n",
              "      <td>0</td>\n",
              "      <td>0.00</td>\n",
              "      <td>14.00</td>\n",
              "      <td>0.00</td>\n",
              "      <td>2008</td>\n",
              "      <td>100000</td>\n",
              "      <td>500000</td>\n",
              "    </tr>\n",
              "    <tr>\n",
              "      <th>125</th>\n",
              "      <td>126</td>\n",
              "      <td>Yadav, AS</td>\n",
              "      <td>2</td>\n",
              "      <td>IND</td>\n",
              "      <td>DC</td>\n",
              "      <td>Batsman</td>\n",
              "      <td>0</td>\n",
              "      <td>0</td>\n",
              "      <td>0</td>\n",
              "      <td>0.00</td>\n",
              "      <td>0</td>\n",
              "      <td>0.0</td>\n",
              "      <td>0</td>\n",
              "      <td>49</td>\n",
              "      <td>16</td>\n",
              "      <td>9.80</td>\n",
              "      <td>125.64</td>\n",
              "      <td>2</td>\n",
              "      <td>0</td>\n",
              "      <td>0</td>\n",
              "      <td>0.00</td>\n",
              "      <td>0.00</td>\n",
              "      <td>0.00</td>\n",
              "      <td>2010</td>\n",
              "      <td>50000</td>\n",
              "      <td>750000</td>\n",
              "    </tr>\n",
              "    <tr>\n",
              "      <th>126</th>\n",
              "      <td>127</td>\n",
              "      <td>Younis Khan</td>\n",
              "      <td>2</td>\n",
              "      <td>PAK</td>\n",
              "      <td>RR</td>\n",
              "      <td>Batsman</td>\n",
              "      <td>6398</td>\n",
              "      <td>7</td>\n",
              "      <td>6814</td>\n",
              "      <td>75.78</td>\n",
              "      <td>3</td>\n",
              "      <td>86.6</td>\n",
              "      <td>1</td>\n",
              "      <td>3</td>\n",
              "      <td>3</td>\n",
              "      <td>3.00</td>\n",
              "      <td>42.85</td>\n",
              "      <td>0</td>\n",
              "      <td>0</td>\n",
              "      <td>0</td>\n",
              "      <td>0.00</td>\n",
              "      <td>0.00</td>\n",
              "      <td>0.00</td>\n",
              "      <td>2008</td>\n",
              "      <td>225000</td>\n",
              "      <td>225000</td>\n",
              "    </tr>\n",
              "    <tr>\n",
              "      <th>127</th>\n",
              "      <td>128</td>\n",
              "      <td>Yuvraj Singh</td>\n",
              "      <td>2</td>\n",
              "      <td>IND</td>\n",
              "      <td>KXIP+</td>\n",
              "      <td>Batsman</td>\n",
              "      <td>1775</td>\n",
              "      <td>9</td>\n",
              "      <td>8051</td>\n",
              "      <td>87.58</td>\n",
              "      <td>109</td>\n",
              "      <td>44.3</td>\n",
              "      <td>1</td>\n",
              "      <td>1237</td>\n",
              "      <td>66</td>\n",
              "      <td>26.32</td>\n",
              "      <td>131.88</td>\n",
              "      <td>67</td>\n",
              "      <td>569</td>\n",
              "      <td>23</td>\n",
              "      <td>24.74</td>\n",
              "      <td>7.02</td>\n",
              "      <td>21.13</td>\n",
              "      <td>2011</td>\n",
              "      <td>400000</td>\n",
              "      <td>1800000</td>\n",
              "    </tr>\n",
              "  </tbody>\n",
              "</table>\n",
              "</div>"
            ],
            "text/plain": [
              "     Sl.NO.   PLAYER NAME  AGE  ... AUCTION YEAR BASE PRICE SOLD PRICE\n",
              "123     124    Warner, DA    1  ...         2011     200000     750000\n",
              "124     125     White, CL    2  ...         2008     100000     500000\n",
              "125     126     Yadav, AS    2  ...         2010      50000     750000\n",
              "126     127   Younis Khan    2  ...         2008     225000     225000\n",
              "127     128  Yuvraj Singh    2  ...         2011     400000    1800000\n",
              "\n",
              "[5 rows x 26 columns]"
            ]
          },
          "metadata": {},
          "execution_count": 40
        }
      ]
    },
    {
      "cell_type": "code",
      "metadata": {
        "colab": {
          "base_uri": "https://localhost:8080/",
          "height": 307
        },
        "id": "EERlrOiiXwaK",
        "outputId": "a8cff515-5388-44aa-92da-6df85fc8faa4"
      },
      "source": [
        "sns.scatterplot(x=df_ipl_batsman.SIXERS, y= df_ipl_batsman['SOLD PRICE'])"
      ],
      "execution_count": 41,
      "outputs": [
        {
          "output_type": "execute_result",
          "data": {
            "text/plain": [
              "<matplotlib.axes._subplots.AxesSubplot at 0x7fc70ca70290>"
            ]
          },
          "metadata": {},
          "execution_count": 41
        },
        {
          "output_type": "display_data",
          "data": {
            "image/png": "[encoded data removed]",
            "text/plain": [
              "<Figure size 432x288 with 1 Axes>"
            ]
          },
          "metadata": {
            "needs_background": "light"
          }
        }
      ]
    },
    {
      "cell_type": "code",
      "metadata": {
        "colab": {
          "base_uri": "https://localhost:8080/",
          "height": 307
        },
        "id": "ER2Pc7QBYL4D",
        "outputId": "727aab9e-f2e3-487c-ec8d-ffa25e142e95"
      },
      "source": [
        "sns.regplot(x= df_ipl_batsman.SIXERS, y= df_ipl_batsman['SOLD PRICE'])"
      ],
      "execution_count": 42,
      "outputs": [
        {
          "output_type": "execute_result",
          "data": {
            "text/plain": [
              "<matplotlib.axes._subplots.AxesSubplot at 0x7fc70c8ed450>"
            ]
          },
          "metadata": {},
          "execution_count": 42
        },
        {
          "output_type": "display_data",
          "data": {
            "image/png": "[encoded data removed]",
            "text/plain": [
              "<Figure size 432x288 with 1 Axes>"
            ]
          },
          "metadata": {
            "needs_background": "light"
          }
        }
      ]
    },
    {
      "cell_type": "code",
      "metadata": {
        "colab": {
          "base_uri": "https://localhost:8080/",
          "height": 307
        },
        "id": "9z8PtybGasKF",
        "outputId": "1bd183e9-903d-4444-ab15-26572aa6b091"
      },
      "source": [
        "sns.regplot(x= 'SIXERS', y= 'SOLD PRICE' , data= df_ipl_batsman)"
      ],
      "execution_count": 44,
      "outputs": [
        {
          "output_type": "execute_result",
          "data": {
            "text/plain": [
              "<matplotlib.axes._subplots.AxesSubplot at 0x7fc70c8e0ed0>"
            ]
          },
          "metadata": {},
          "execution_count": 44
        },
        {
          "output_type": "display_data",
          "data": {
            "image/png": "[encoded data removed]",
            "text/plain": [
              "<Figure size 432x288 with 1 Axes>"
            ]
          },
          "metadata": {
            "needs_background": "light"
          }
        }
      ]
    },
    {
      "cell_type": "code",
      "metadata": {
        "id": "3-LdiNgkbASl"
      },
      "source": [
        "influencial_features = ['RUNS-S', 'BASE PRICE', 'ECON', 'AVE']"
      ],
      "execution_count": 45,
      "outputs": []
    },
    {
      "cell_type": "code",
      "metadata": {
        "colab": {
          "base_uri": "https://localhost:8080/",
          "height": 203
        },
        "id": "yT_3WR8RbMza",
        "outputId": "690ba6d1-8919-4c45-9d7d-9bc5868592aa"
      },
      "source": [
        "df_ipl[influencial_features].head()"
      ],
      "execution_count": 46,
      "outputs": [
        {
          "output_type": "execute_result",
          "data": {
            "text/html": [
              "<div>\n",
              "<style scoped>\n",
              "    .dataframe tbody tr th:only-of-type {\n",
              "        vertical-align: middle;\n",
              "    }\n",
              "\n",
              "    .dataframe tbody tr th {\n",
              "        vertical-align: top;\n",
              "    }\n",
              "\n",
              "    .dataframe thead th {\n",
              "        text-align: right;\n",
              "    }\n",
              "</style>\n",
              "<table border=\"1\" class=\"dataframe\">\n",
              "  <thead>\n",
              "    <tr style=\"text-align: right;\">\n",
              "      <th></th>\n",
              "      <th>RUNS-S</th>\n",
              "      <th>BASE PRICE</th>\n",
              "      <th>ECON</th>\n",
              "      <th>AVE</th>\n",
              "    </tr>\n",
              "  </thead>\n",
              "  <tbody>\n",
              "    <tr>\n",
              "      <th>0</th>\n",
              "      <td>0</td>\n",
              "      <td>50000</td>\n",
              "      <td>8.90</td>\n",
              "      <td>0.00</td>\n",
              "    </tr>\n",
              "    <tr>\n",
              "      <th>1</th>\n",
              "      <td>0</td>\n",
              "      <td>50000</td>\n",
              "      <td>14.50</td>\n",
              "      <td>0.00</td>\n",
              "    </tr>\n",
              "    <tr>\n",
              "      <th>2</th>\n",
              "      <td>167</td>\n",
              "      <td>200000</td>\n",
              "      <td>8.81</td>\n",
              "      <td>18.56</td>\n",
              "    </tr>\n",
              "    <tr>\n",
              "      <th>3</th>\n",
              "      <td>58</td>\n",
              "      <td>100000</td>\n",
              "      <td>6.23</td>\n",
              "      <td>5.80</td>\n",
              "    </tr>\n",
              "    <tr>\n",
              "      <th>4</th>\n",
              "      <td>1317</td>\n",
              "      <td>100000</td>\n",
              "      <td>0.00</td>\n",
              "      <td>32.93</td>\n",
              "    </tr>\n",
              "  </tbody>\n",
              "</table>\n",
              "</div>"
            ],
            "text/plain": [
              "   RUNS-S  BASE PRICE   ECON    AVE\n",
              "0       0       50000   8.90   0.00\n",
              "1       0       50000  14.50   0.00\n",
              "2     167      200000   8.81  18.56\n",
              "3      58      100000   6.23   5.80\n",
              "4    1317      100000   0.00  32.93"
            ]
          },
          "metadata": {},
          "execution_count": 46
        }
      ]
    },
    {
      "cell_type": "code",
      "metadata": {
        "colab": {
          "base_uri": "https://localhost:8080/",
          "height": 172
        },
        "id": "1dFmcOMtbSdL",
        "outputId": "e5d8ea3d-ce78-40ac-e2d3-9742ec7fefbb"
      },
      "source": [
        "df_ipl[influencial_features].corr()"
      ],
      "execution_count": 47,
      "outputs": [
        {
          "output_type": "execute_result",
          "data": {
            "text/html": [
              "<div>\n",
              "<style scoped>\n",
              "    .dataframe tbody tr th:only-of-type {\n",
              "        vertical-align: middle;\n",
              "    }\n",
              "\n",
              "    .dataframe tbody tr th {\n",
              "        vertical-align: top;\n",
              "    }\n",
              "\n",
              "    .dataframe thead th {\n",
              "        text-align: right;\n",
              "    }\n",
              "</style>\n",
              "<table border=\"1\" class=\"dataframe\">\n",
              "  <thead>\n",
              "    <tr style=\"text-align: right;\">\n",
              "      <th></th>\n",
              "      <th>RUNS-S</th>\n",
              "      <th>BASE PRICE</th>\n",
              "      <th>ECON</th>\n",
              "      <th>AVE</th>\n",
              "    </tr>\n",
              "  </thead>\n",
              "  <tbody>\n",
              "    <tr>\n",
              "      <th>RUNS-S</th>\n",
              "      <td>1.000000</td>\n",
              "      <td>0.178185</td>\n",
              "      <td>-0.179459</td>\n",
              "      <td>0.767023</td>\n",
              "    </tr>\n",
              "    <tr>\n",
              "      <th>BASE PRICE</th>\n",
              "      <td>0.178185</td>\n",
              "      <td>1.000000</td>\n",
              "      <td>-0.045327</td>\n",
              "      <td>0.333820</td>\n",
              "    </tr>\n",
              "    <tr>\n",
              "      <th>ECON</th>\n",
              "      <td>-0.179459</td>\n",
              "      <td>-0.045327</td>\n",
              "      <td>1.000000</td>\n",
              "      <td>-0.202301</td>\n",
              "    </tr>\n",
              "    <tr>\n",
              "      <th>AVE</th>\n",
              "      <td>0.767023</td>\n",
              "      <td>0.333820</td>\n",
              "      <td>-0.202301</td>\n",
              "      <td>1.000000</td>\n",
              "    </tr>\n",
              "  </tbody>\n",
              "</table>\n",
              "</div>"
            ],
            "text/plain": [
              "              RUNS-S  BASE PRICE      ECON       AVE\n",
              "RUNS-S      1.000000    0.178185 -0.179459  0.767023\n",
              "BASE PRICE  0.178185    1.000000 -0.045327  0.333820\n",
              "ECON       -0.179459   -0.045327  1.000000 -0.202301\n",
              "AVE         0.767023    0.333820 -0.202301  1.000000"
            ]
          },
          "metadata": {},
          "execution_count": 47
        }
      ]
    },
    {
      "cell_type": "code",
      "metadata": {
        "colab": {
          "base_uri": "https://localhost:8080/",
          "height": 286
        },
        "id": "lKzrt7W4bbM7",
        "outputId": "e0129781-4e68-4754-978f-495481f05193"
      },
      "source": [
        "sns.heatmap(df_ipl[influencial_features].corr())"
      ],
      "execution_count": 48,
      "outputs": [
        {
          "output_type": "execute_result",
          "data": {
            "text/plain": [
              "<matplotlib.axes._subplots.AxesSubplot at 0x7fc70c81bf10>"
            ]
          },
          "metadata": {},
          "execution_count": 48
        },
        {
          "output_type": "display_data",
          "data": {
            "image/png": "[encoded data removed]",
            "text/plain": [
              "<Figure size 432x288 with 2 Axes>"
            ]
          },
          "metadata": {
            "needs_background": "light"
          }
        }
      ]
    },
    {
      "cell_type": "code",
      "metadata": {
        "colab": {
          "base_uri": "https://localhost:8080/",
          "height": 286
        },
        "id": "ncEzeoSkbwkj",
        "outputId": "0bcbc29a-c40a-49f8-def3-1e1572f84bc5"
      },
      "source": [
        "sns.heatmap(df_ipl[influencial_features].corr(), annot= True )"
      ],
      "execution_count": 50,
      "outputs": [
        {
          "output_type": "execute_result",
          "data": {
            "text/plain": [
              "<matplotlib.axes._subplots.AxesSubplot at 0x7fc703f9e950>"
            ]
          },
          "metadata": {},
          "execution_count": 50
        },
        {
          "output_type": "display_data",
          "data": {
            "image/png": "[encoded data removed]",
            "text/plain": [
              "<Figure size 432x288 with 2 Axes>"
            ]
          },
          "metadata": {
            "needs_background": "light"
          }
        }
      ]
    },
    {
      "cell_type": "code",
      "metadata": {
        "id": "hq9PRNxVb2SF"
      },
      "source": [
        ""
      ],
      "execution_count": null,
      "outputs": []
    }
  ]
}